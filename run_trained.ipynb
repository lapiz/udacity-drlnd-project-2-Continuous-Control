{
 "cells": [
  {
   "cell_type": "markdown",
   "id": "driving-paradise",
   "metadata": {},
   "source": [
    "# Run with trained model"
   ]
  },
  {
   "cell_type": "code",
   "execution_count": 1,
   "id": "developmental-figure",
   "metadata": {},
   "outputs": [
    {
     "name": "stderr",
     "output_type": "stream",
     "text": [
      "INFO:unityagents:\n",
      "'Academy' started successfully!\n",
      "Unity Academy name: Academy\n",
      "        Number of Brains: 1\n",
      "        Number of External Brains : 1\n",
      "        Lesson number : 0\n",
      "        Reset Parameters :\n",
      "\t\tgoal_size -> 5.0\n",
      "\t\tgoal_speed -> 1.0\n",
      "Unity brain name: ReacherBrain\n",
      "        Number of Visual Observations (per agent): 0\n",
      "        Vector Observation space type: continuous\n",
      "        Vector Observation space size (per agent): 33\n",
      "        Number of stacked Vector Observation: 1\n",
      "        Vector Action space type: continuous\n",
      "        Vector Action space size (per agent): 4\n",
      "        Vector Action descriptions: , , , \n"
     ]
    },
    {
     "name": "stdout",
     "output_type": "stream",
     "text": [
      "Number of agents: 20\n",
      "Size of each action: 4\n",
      "There are 20 agents. Each observes a state with length: 33\n",
      "The state for the first agent looks like: [ 0.00000000e+00 -4.00000000e+00  0.00000000e+00  1.00000000e+00\n",
      " -0.00000000e+00 -0.00000000e+00 -4.37113883e-08  0.00000000e+00\n",
      "  0.00000000e+00  0.00000000e+00  0.00000000e+00  0.00000000e+00\n",
      "  0.00000000e+00  0.00000000e+00 -1.00000000e+01  0.00000000e+00\n",
      "  1.00000000e+00 -0.00000000e+00 -0.00000000e+00 -4.37113883e-08\n",
      "  0.00000000e+00  0.00000000e+00  0.00000000e+00  0.00000000e+00\n",
      "  0.00000000e+00  0.00000000e+00  5.75471878e+00 -1.00000000e+00\n",
      "  5.55726624e+00  0.00000000e+00  1.00000000e+00  0.00000000e+00\n",
      " -1.68164849e-01]\n"
     ]
    }
   ],
   "source": [
    "from unityagents import UnityEnvironment\n",
    "import numpy as np\n",
    "\n",
    "env = UnityEnvironment(file_name='Reacher_Linux_NoVis_20/Reacher.x86_64')\n",
    "\n",
    "# get the default brain\n",
    "brain_name = env.brain_names[0]\n",
    "brain = env.brains[brain_name]\n",
    "\n",
    "# reset the environment\n",
    "env_info = env.reset(train_mode=True)[brain_name]\n",
    "\n",
    "# number of agents\n",
    "num_agents = len(env_info.agents)\n",
    "print('Number of agents:', num_agents)\n",
    "\n",
    "# size of each action\n",
    "action_size = brain.vector_action_space_size\n",
    "print('Size of each action:', action_size)\n",
    "\n",
    "# examine the state space \n",
    "states = env_info.vector_observations\n",
    "state_size = states.shape[1]\n",
    "print('There are {} agents. Each observes a state with length: {}'.format(states.shape[0], state_size))\n",
    "print('The state for the first agent looks like:', states[0])"
   ]
  },
  {
   "cell_type": "code",
   "execution_count": 2,
   "id": "offshore-evolution",
   "metadata": {},
   "outputs": [],
   "source": [
    "import sys, platform, json\n",
    "import torch\n",
    "import random\n",
    "import numpy as np\n",
    "\n",
    "from scores import Scores\n",
    "from ddpg_agent import Agent\n",
    "from unityagents import UnityEnvironment"
   ]
  },
  {
   "cell_type": "code",
   "execution_count": 3,
   "id": "entire-literature",
   "metadata": {},
   "outputs": [],
   "source": [
    "hparams = {\n",
    "    \"output\": \"reacher_result\",\n",
    "    \"seed\": 0,\n",
    "    \"epoch\": 1000,\n",
    "    \"scores\": {\n",
    "        \"expectation\": 30,\n",
    "        \"window_size\": 100,\n",
    "        \"check_solved\": True,\n",
    "    },\n",
    "    \"t_max\": 1000,\n",
    "    \"buffer_size\":1000000,\n",
    "    \"batch_size\":128,\n",
    "    \"gamma\":0.99,\n",
    "    \"tau\":1e-3,\n",
    "    \"lr\": { \n",
    "        \"actor\":1e-4,\n",
    "        \"critic\":1e-4\n",
    "    },\n",
    "    \"weight_decay\": 0,\n",
    "\n",
    "    \"learn_per_step\": 20,\n",
    "    \"update_times\": 10,\n",
    "    \n",
    "    \"hidden_layers\": {\n",
    "        \"actor\": [ 256, 128 ],\n",
    "        \"critic\": [ 256, 128 ],\n",
    "    }\n",
    "}\n"
   ]
  },
  {
   "cell_type": "code",
   "execution_count": 4,
   "id": "optimum-sunglasses",
   "metadata": {},
   "outputs": [],
   "source": [
    "# size of each action\n",
    "action_size = brain.vector_action_space_size\n",
    "states = env_info.vector_observations                  # get the current state (for each agent)\n",
    "state_size = states.shape[1]\n",
    "\n",
    "Agent.set_hparams(state_size, action_size, hparams)\n",
    "agent = Agent(action_size)\n",
    "\n",
    "Agent.load('reacher_result')\n",
    "\n",
    "agents = []\n",
    "scores = np.zeros(num_agents)\n",
    "for i in range(num_agents):\n",
    "    agents.append(Agent(action_size))"
   ]
  },
  {
   "cell_type": "code",
   "execution_count": 5,
   "id": "dirty-islam",
   "metadata": {},
   "outputs": [
    {
     "name": "stdout",
     "output_type": "stream",
     "text": [
      "Score: 32.09\tmin: 25.83\tmax: 39.42\n",
      "Scores: [29.41999934 33.58999925 30.01999933 39.41999912 31.58999929 28.23999937\n",
      " 27.0599994  31.3799993  34.47999923 33.38999925 34.45999923 37.26999917\n",
      " 32.44999927 30.78999931 31.85999929 33.95999924 25.82999942 34.34999923\n",
      " 31.83999929 30.39999932]\n"
     ]
    }
   ],
   "source": [
    "while True:\n",
    "    actions = np.array([agents[i].act(states[i]) for i in range(num_agents)])\n",
    "\n",
    "    env_info = env.step(actions)[brain_name]        # send the action to the environment\n",
    "    next_states = env_info.vector_observations     # get the next state\n",
    "    rewards = env_info.rewards                     # get the reward\n",
    "    dones = env_info.local_done        \n",
    "\n",
    "    states = next_states\n",
    "    scores += rewards\n",
    "\n",
    "    print('\\rScore: {:.2f}\\tmin: {:.2f}\\tmax: {:.2f}'\n",
    "              .format(np.mean(scores), np.min(scores), np.max(scores)), end=\"\") \n",
    "    \n",
    "    if np.any(dones):\n",
    "        break\n",
    "        \n",
    "print(\"\\nScores: {}\".format(scores))"
   ]
  },
  {
   "cell_type": "code",
   "execution_count": 6,
   "id": "worldwide-employee",
   "metadata": {},
   "outputs": [],
   "source": [
    "env.close()"
   ]
  }
 ],
 "metadata": {
  "kernelspec": {
   "display_name": "Python 3",
   "language": "python",
   "name": "python3"
  },
  "language_info": {
   "codemirror_mode": {
    "name": "ipython",
    "version": 3
   },
   "file_extension": ".py",
   "mimetype": "text/x-python",
   "name": "python",
   "nbconvert_exporter": "python",
   "pygments_lexer": "ipython3",
   "version": "3.6.13"
  }
 },
 "nbformat": 4,
 "nbformat_minor": 5
}
